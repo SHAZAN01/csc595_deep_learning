{
  "nbformat": 4,
  "nbformat_minor": 0,
  "metadata": {
    "colab": {
      "provenance": [],
      "machine_shape": "hm",
      "gpuType": "A100"
    },
    "kernelspec": {
      "name": "python3",
      "display_name": "Python 3"
    },
    "language_info": {
      "name": "python"
    },
    "accelerator": "GPU"
  },
  "cells": [
    {
      "cell_type": "code",
      "execution_count": null,
      "metadata": {
        "colab": {
          "base_uri": "https://localhost:8080/"
        },
        "id": "XPA1rRFIAMn1",
        "outputId": "0de1d8eb-5e0e-4b55-ed45-7c2e2954e863"
      },
      "outputs": [
        {
          "output_type": "stream",
          "name": "stdout",
          "text": [
            "Requirement already satisfied: nltk in /usr/local/lib/python3.11/dist-packages (3.9.1)\n",
            "Requirement already satisfied: click in /usr/local/lib/python3.11/dist-packages (from nltk) (8.1.8)\n",
            "Requirement already satisfied: joblib in /usr/local/lib/python3.11/dist-packages (from nltk) (1.4.2)\n",
            "Requirement already satisfied: regex>=2021.8.3 in /usr/local/lib/python3.11/dist-packages (from nltk) (2024.11.6)\n",
            "Requirement already satisfied: tqdm in /usr/local/lib/python3.11/dist-packages (from nltk) (4.67.1)\n"
          ]
        }
      ],
      "source": [
        "!pip install nltk"
      ]
    },
    {
      "cell_type": "code",
      "source": [
        "# CLASS ACTIVITY 6 SETUP - CLEANED FOR COLAB\n",
        "\n",
        "# ✅ Step 1: Install required packages\n",
        "!pip install nltk\n",
        "\n",
        "# ✅ Step 2: Download Twitter and Stopword samples\n",
        "import nltk\n",
        "nltk.download('stopwords')\n",
        "nltk.download('twitter_samples')\n",
        "\n",
        "# ✅ Step 3: Confirm nltk data path is available (no need to modify in Colab)\n",
        "import os\n",
        "print(\"Current directory:\", os.getcwd())\n",
        "print(\"Using default nltk path:\", nltk.data.path)\n",
        "\n",
        "# ✅ Step 4: Load required libraries for activity\n",
        "import numpy as np\n",
        "from nltk.corpus import stopwords, twitter_samples\n",
        "from utils import cosine_similarity, get_dict, process_tweet\n",
        "import pickle\n",
        "import w4_unittest\n",
        "\n",
        "# ✅ Step 5: Load embeddings and dictionaries\n",
        "print(\"Contents of /data/:\")\n",
        "!ls data\n",
        "\n",
        "en_embeddings_subset = pickle.load(open(\"data/en_embeddings.p\", \"rb\"))\n",
        "fr_embeddings_subset = pickle.load(open(\"data/fr_embeddings.p\", \"rb\"))\n",
        "\n",
        "en_fr_train = get_dict('data/en-fr.train.txt')\n",
        "en_fr_test = get_dict('data/en-fr.test.txt')\n",
        "\n",
        "print('Train dictionary size:', len(en_fr_train))\n",
        "print('Test dictionary size:', len(en_fr_test))\n"
      ],
      "metadata": {
        "id": "gquHcM7qCVF-",
        "colab": {
          "base_uri": "https://localhost:8080/"
        },
        "outputId": "1f059ec2-9e78-4c18-9838-9398abf0beb7"
      },
      "execution_count": 19,
      "outputs": [
        {
          "output_type": "stream",
          "name": "stdout",
          "text": [
            "Requirement already satisfied: nltk in /usr/local/lib/python3.11/dist-packages (3.9.1)\n",
            "Requirement already satisfied: click in /usr/local/lib/python3.11/dist-packages (from nltk) (8.1.8)\n",
            "Requirement already satisfied: joblib in /usr/local/lib/python3.11/dist-packages (from nltk) (1.4.2)\n",
            "Requirement already satisfied: regex>=2021.8.3 in /usr/local/lib/python3.11/dist-packages (from nltk) (2024.11.6)\n",
            "Requirement already satisfied: tqdm in /usr/local/lib/python3.11/dist-packages (from nltk) (4.67.1)\n",
            "Current directory: /content\n",
            "Using default nltk path: ['/root/nltk_data', '/usr/nltk_data', '/usr/share/nltk_data', '/usr/lib/nltk_data', '/usr/share/nltk_data', '/usr/local/share/nltk_data', '/usr/lib/nltk_data', '/usr/local/lib/nltk_data', '/content/tmp2/', '/content/tmp2/']\n",
            "Contents of /data/:\n",
            "en_embeddings.p  en-fr.test.txt  en-fr.train.txt  fr_embeddings.p\n"
          ]
        },
        {
          "output_type": "stream",
          "name": "stderr",
          "text": [
            "[nltk_data] Downloading package stopwords to /root/nltk_data...\n",
            "[nltk_data]   Package stopwords is already up-to-date!\n",
            "[nltk_data] Downloading package twitter_samples to /root/nltk_data...\n",
            "[nltk_data]   Package twitter_samples is already up-to-date!\n",
            "/content/utils.py:56: FutureWarning: Series.__getitem__ treating keys as positions is deprecated. In a future version, integer keys will always be treated as labels (consistent with DataFrame behavior). To access a value by position, use `ser.iloc[pos]`\n",
            "  en = my_file.loc[i][0]\n",
            "/content/utils.py:57: FutureWarning: Series.__getitem__ treating keys as positions is deprecated. In a future version, integer keys will always be treated as labels (consistent with DataFrame behavior). To access a value by position, use `ser.iloc[pos]`\n",
            "  fr = my_file.loc[i][1]\n"
          ]
        },
        {
          "output_type": "stream",
          "name": "stdout",
          "text": [
            "Train dictionary size: 5000\n",
            "Test dictionary size: 1500\n"
          ]
        },
        {
          "output_type": "stream",
          "name": "stderr",
          "text": [
            "/content/utils.py:56: FutureWarning: Series.__getitem__ treating keys as positions is deprecated. In a future version, integer keys will always be treated as labels (consistent with DataFrame behavior). To access a value by position, use `ser.iloc[pos]`\n",
            "  en = my_file.loc[i][0]\n",
            "/content/utils.py:57: FutureWarning: Series.__getitem__ treating keys as positions is deprecated. In a future version, integer keys will always be treated as labels (consistent with DataFrame behavior). To access a value by position, use `ser.iloc[pos]`\n",
            "  fr = my_file.loc[i][1]\n"
          ]
        }
      ]
    },
    {
      "cell_type": "code",
      "source": [
        "def get_matrices(en_fr, french_vecs, english_vecs):\n",
        "    \"\"\"\n",
        "    Input:\n",
        "        en_fr: dictionary with English-French word pairs\n",
        "        french_vecs: french word to vec\n",
        "        english_vecs: english word to vec\n",
        "    Output:\n",
        "        X: matrix of french word embeddings\n",
        "        Y: matrix of english word embeddings\n",
        "    \"\"\"\n",
        "    X, Y = [], []\n",
        "    for en_word, fr_word in en_fr.items():\n",
        "        if fr_word in french_vecs and en_word in english_vecs:\n",
        "            X.append(french_vecs[fr_word])\n",
        "            Y.append(english_vecs[en_word])\n",
        "    X = np.vstack(X)\n",
        "    Y = np.vstack(Y)\n",
        "    return X, Y\n",
        "\n",
        "# ✅ Test UNQ_C1\n",
        "w4_unittest.test_get_matrices(get_matrices)"
      ],
      "metadata": {
        "id": "Ka8kyUZBCVEJ",
        "colab": {
          "base_uri": "https://localhost:8080/"
        },
        "outputId": "fe00954b-6c95-403e-84f8-d14c09478d4e"
      },
      "execution_count": 20,
      "outputs": [
        {
          "output_type": "stream",
          "name": "stderr",
          "text": [
            "/content/utils.py:56: FutureWarning: Series.__getitem__ treating keys as positions is deprecated. In a future version, integer keys will always be treated as labels (consistent with DataFrame behavior). To access a value by position, use `ser.iloc[pos]`\n",
            "  en = my_file.loc[i][0]\n",
            "/content/utils.py:57: FutureWarning: Series.__getitem__ treating keys as positions is deprecated. In a future version, integer keys will always be treated as labels (consistent with DataFrame behavior). To access a value by position, use `ser.iloc[pos]`\n",
            "  fr = my_file.loc[i][1]\n",
            "/content/utils.py:56: FutureWarning: Series.__getitem__ treating keys as positions is deprecated. In a future version, integer keys will always be treated as labels (consistent with DataFrame behavior). To access a value by position, use `ser.iloc[pos]`\n",
            "  en = my_file.loc[i][0]\n",
            "/content/utils.py:57: FutureWarning: Series.__getitem__ treating keys as positions is deprecated. In a future version, integer keys will always be treated as labels (consistent with DataFrame behavior). To access a value by position, use `ser.iloc[pos]`\n",
            "  fr = my_file.loc[i][1]\n"
          ]
        },
        {
          "output_type": "stream",
          "name": "stdout",
          "text": [
            "Wrong output values for X matrix. \n",
            "\tExpected: [ 0.08007812  0.10498047  0.04980469  0.0534668  -0.06738281 -0.12060547\n",
            "  0.03515625 -0.11865234  0.04394531  0.03015137].\n",
            "\tGot: [-0.0061825  -0.00094387 -0.00882648  0.0324623  -0.0218281   0.0298912\n",
            "  0.022999    0.0280628   0.00587757 -0.0256806 ].\n",
            "Wrong output values for Y matrix. \n",
            "\tExpected: [-0.0061825  -0.00094387 -0.00882648  0.0324623  -0.0218281   0.0298912\n",
            "  0.022999    0.0280628   0.00587757 -0.0256806 ].\n",
            "\tGot: [ 0.08007812  0.10498047  0.04980469  0.0534668  -0.06738281 -0.12060547\n",
            "  0.03515625 -0.11865234  0.04394531  0.03015137].\n",
            "Wrong output values for X matrix. \n",
            "\tExpected: [-0.00418091  0.0703125  -0.04516602  0.18945312 -0.20800781 -0.16210938\n",
            " -0.06494141  0.15039062  0.26171875  0.12255859].\n",
            "\tGot: [-0.0350154  -0.0336099  -0.0251155   0.0833922  -0.103386   -0.064521\n",
            "  0.00913285 -0.171325    0.00081952  0.0280359 ].\n",
            "Wrong output values for Y matrix. \n",
            "\tExpected: [-0.0350154  -0.0336099  -0.0251155   0.0833922  -0.103386   -0.064521\n",
            "  0.00913285 -0.171325    0.00081952  0.0280359 ].\n",
            "\tGot: [-0.00418091  0.0703125  -0.04516602  0.18945312 -0.20800781 -0.16210938\n",
            " -0.06494141  0.15039062  0.26171875  0.12255859].\n",
            "Wrong output values for X matrix. \n",
            "\tExpected: [ 0.06396484  0.40234375  0.02319336 -0.12792969 -0.04443359 -0.17382812\n",
            " -0.04956055 -0.09179688  0.47460938  0.38085938].\n",
            "\tGot: [-0.0272983  0.0232864 -0.0844774  0.113301  -0.0738911  0.0138015\n",
            " -0.0803088 -0.0859674 -0.0272294 -0.0283763].\n",
            "Wrong output values for Y matrix. \n",
            "\tExpected: [-0.0272983  0.0232864 -0.0844774  0.113301  -0.0738911  0.0138015\n",
            " -0.0803088 -0.0859674 -0.0272294 -0.0283763].\n",
            "\tGot: [ 0.06396484  0.40234375  0.02319336 -0.12792969 -0.04443359 -0.17382812\n",
            " -0.04956055 -0.09179688  0.47460938  0.38085938].\n",
            "Wrong output values for X matrix. \n",
            "\tExpected: [ 0.03662109  0.03393555 -0.05517578  0.05615234  0.00765991  0.00921631\n",
            " -0.05053711 -0.09277344 -0.05761719  0.04638672].\n",
            "\tGot: [-0.0577526   0.00185741 -0.0752259  -0.0128851   0.0192883  -0.0225487\n",
            " -0.0210989  -0.0987019   0.0321477   0.0286972 ].\n",
            "Wrong output values for Y matrix. \n",
            "\tExpected: [-0.0577526   0.00185741 -0.0752259  -0.0128851   0.0192883  -0.0225487\n",
            " -0.0210989  -0.0987019   0.0321477   0.0286972 ].\n",
            "\tGot: [ 0.03662109  0.03393555 -0.05517578  0.05615234  0.00765991  0.00921631\n",
            " -0.05053711 -0.09277344 -0.05761719  0.04638672].\n",
            "\u001b[92m 8  Tests passed\n",
            "\u001b[91m 8  Tests failed\n"
          ]
        }
      ]
    },
    {
      "cell_type": "code",
      "source": [
        "# ✅ UNQ_C2: compute_loss function\n",
        "def compute_loss(X, Y, R):\n",
        "    \"\"\"\n",
        "    Input:\n",
        "        X: French word embeddings\n",
        "        Y: English word embeddings\n",
        "        R: Rotation matrix\n",
        "    Output:\n",
        "        loss: Frobenius norm of (X.R - Y)^2\n",
        "    \"\"\"\n",
        "    m = X.shape[0]\n",
        "    diff = np.dot(X, R) - Y\n",
        "    loss = (1 / m) * np.sum(diff ** 2)\n",
        "    return loss\n",
        "\n",
        "# ✅ Test UNQ_C2\n",
        "w4_unittest.test_compute_loss(compute_loss)\n"
      ],
      "metadata": {
        "id": "XRHhHWFyCVB1",
        "colab": {
          "base_uri": "https://localhost:8080/"
        },
        "outputId": "fdb8fe09-55bd-45da-fda3-3134c18734eb"
      },
      "execution_count": 21,
      "outputs": [
        {
          "output_type": "stream",
          "name": "stdout",
          "text": [
            "\u001b[92m All tests passed\n"
          ]
        }
      ]
    },
    {
      "cell_type": "code",
      "source": [
        "# ✅ UNQ_C3: compute_gradient function\n",
        "def compute_gradient(X, Y, R):\n",
        "    \"\"\"\n",
        "    Input:\n",
        "        X: matrix of french word embeddings\n",
        "        Y: matrix of english word embeddings\n",
        "        R: rotation matrix\n",
        "    Output:\n",
        "        gradient: gradient w.r.t. R\n",
        "    \"\"\"\n",
        "    m = X.shape[0]\n",
        "    gradient = (2 / m) * np.dot(X.T, (np.dot(X, R) - Y))\n",
        "    return gradient\n",
        "\n",
        "# ✅ Test UNQ_C3\n",
        "w4_unittest.test_compute_gradient(compute_gradient)\n"
      ],
      "metadata": {
        "colab": {
          "base_uri": "https://localhost:8080/"
        },
        "id": "7Fi_8EiXE02F",
        "outputId": "0fcc7539-f63b-4ebf-a4da-e99d94143127"
      },
      "execution_count": 22,
      "outputs": [
        {
          "output_type": "stream",
          "name": "stdout",
          "text": [
            "\u001b[92m All tests passed\n"
          ]
        }
      ]
    },
    {
      "cell_type": "code",
      "source": [
        "# ✅ UNQ_C4: align_embeddings function\n",
        "def align_embeddings(X, Y, train_steps=400, learning_rate=0.8, verbose=False):\n",
        "    np.random.seed(129)\n",
        "    R = np.random.rand(X.shape[1], X.shape[1])\n",
        "    for i in range(train_steps):\n",
        "        gradient = compute_gradient(X, Y, R)\n",
        "        R -= learning_rate * gradient\n",
        "        if verbose and i % 25 == 0:\n",
        "            print(f\"Loss at step {i}: {compute_loss(X, Y, R):.4f}\")\n",
        "    return R\n",
        "\n",
        "# ✅ Test UNQ_C4\n",
        "w4_unittest.test_align_embeddings(align_embeddings)"
      ],
      "metadata": {
        "colab": {
          "base_uri": "https://localhost:8080/"
        },
        "id": "5rHtpsS2E5wc",
        "outputId": "3ad92004-ae98-4058-cb82-f8a4cd5614d2"
      },
      "execution_count": 24,
      "outputs": [
        {
          "output_type": "stream",
          "name": "stdout",
          "text": [
            "\u001b[92m All tests passed\n"
          ]
        }
      ]
    },
    {
      "cell_type": "code",
      "source": [
        "# ✅ UNQ_C5: nearest_neighbor function\n",
        "def nearest_neighbor(**kwargs):\n",
        "    x = kwargs.get(\"x\")\n",
        "    candidates = kwargs.get(\"candidates\")\n",
        "    embeddings = kwargs.get(\"embeddings\")\n",
        "    k = kwargs.get(\"k\", 1)\n",
        "\n",
        "    if x is None or candidates is None or embeddings is None:\n",
        "        return np.array([])  # 🔁 safer return value for edge cases\n",
        "\n",
        "    sims = []\n",
        "    for word in candidates:\n",
        "        if word in embeddings:\n",
        "            sims.append((cosine_similarity(x, embeddings[word]), word))\n",
        "\n",
        "    sims.sort(reverse=True)\n",
        "    top_k = [word for _, word in sims[:k]]\n",
        "    if not sims:\n",
        "        return np.array([])\n",
        "    return np.array(top_k)\n"
      ],
      "metadata": {
        "id": "IN86TkfQFtsn"
      },
      "execution_count": 46,
      "outputs": []
    },
    {
      "cell_type": "code",
      "source": [
        "print(\"X_val_aligned shape:\", X_val_aligned.shape)\n",
        "print(\"Y_val shape:\", Y_val.shape)\n",
        "print(\"Test words:\", list(en_fr_test.items())[:5])\n"
      ],
      "metadata": {
        "colab": {
          "base_uri": "https://localhost:8080/"
        },
        "id": "0xEPCEmxIM7x",
        "outputId": "cce08a26-f303-475f-c4c7-a34963aa819d"
      },
      "execution_count": 43,
      "outputs": [
        {
          "output_type": "stream",
          "name": "stdout",
          "text": [
            "X_val_aligned shape: (1438, 300)\n",
            "Y_val shape: (1438, 300)\n",
            "Test words: [('torpedo', 'torpilles'), ('giovanni', 'giovanni'), ('chat', 'chat'), ('catholics', 'catholiques'), ('herald', 'herald')]\n"
          ]
        }
      ]
    },
    {
      "cell_type": "code",
      "source": [
        "# Count how many test English and French words have embeddings\n",
        "test_en_words = list(en_fr_test.keys())\n",
        "test_fr_words = list(en_fr_test.values())\n",
        "\n",
        "en_embedded = [w for w in test_en_words if w in en_embeddings_subset]\n",
        "fr_embedded = [w for w in test_fr_words if w in fr_embeddings_subset]\n",
        "\n",
        "print(f\"Test English words with embeddings: {len(en_embedded)}/{len(test_en_words)}\")\n",
        "print(f\"Test French words with embeddings: {len(fr_embedded)}/{len(test_fr_words)}\")\n"
      ],
      "metadata": {
        "colab": {
          "base_uri": "https://localhost:8080/"
        },
        "id": "fG6EBaooIPn4",
        "outputId": "5e8123c2-7df0-4fd5-ec2f-e9f10a8929cc"
      },
      "execution_count": 44,
      "outputs": [
        {
          "output_type": "stream",
          "name": "stdout",
          "text": [
            "Test English words with embeddings: 1438/1500\n",
            "Test French words with embeddings: 1445/1500\n"
          ]
        }
      ]
    },
    {
      "cell_type": "code",
      "source": [
        "filtered_test = {\n",
        "    en: fr for en, fr in en_fr_test.items()\n",
        "    if en in en_embeddings_subset and fr in fr_embeddings_subset\n",
        "}\n",
        "\n",
        "X_val, Y_val = get_matrices(filtered_test, fr_embeddings_subset, en_embeddings_subset)\n",
        "X_val_aligned = np.dot(X_val, R)\n",
        "\n",
        "accuracy = test_vocabulary(en_embeddings_subset, X_val_aligned, Y_val, list(filtered_test.keys()), list(filtered_test.values()))\n",
        "print(f\"Translation accuracy (filtered): {accuracy:.2%}\")\n"
      ],
      "metadata": {
        "colab": {
          "base_uri": "https://localhost:8080/"
        },
        "id": "r_NFaYYDIRow",
        "outputId": "84f7b9e2-da54-47d9-e4cb-087f3934cec2"
      },
      "execution_count": 45,
      "outputs": [
        {
          "output_type": "stream",
          "name": "stdout",
          "text": [
            "Translation accuracy (filtered): 8.76%\n"
          ]
        }
      ]
    },
    {
      "cell_type": "code",
      "source": [
        "# ✅ UNQ_C7: get_document_embedding function\n",
        "def get_document_embedding(tweet, en_embeddings):\n",
        "    \"\"\"\n",
        "    Input:\n",
        "        tokenized_doc: list of words (already cleaned)\n",
        "        en_embeddings: dict of word to vec\n",
        "    Output:\n",
        "        doc_embedding: average of word embeddings\n",
        "    \"\"\"\n",
        "    valid_vectors = [en_embeddings.get(word, np.zeros(next(iter(en_embeddings.values())).shape)) for word in tweet]\n",
        "    if not valid_vectors:\n",
        "        return np.zeros(next(iter(en_embeddings.values())).shape)\n",
        "    return np.mean(valid_vectors, axis=0)\n",
        "\n",
        "# ✅ Test UNQ_C7\n",
        "w4_unittest.test_get_document_embedding(get_document_embedding)"
      ],
      "metadata": {
        "colab": {
          "base_uri": "https://localhost:8080/"
        },
        "id": "gD8Ts-ytIwv7",
        "outputId": "dee74738-9add-4f74-9952-8d8230a01845"
      },
      "execution_count": 49,
      "outputs": [
        {
          "output_type": "stream",
          "name": "stdout",
          "text": [
            "Wrong document embedding. Remember to use 0 if the word is not in the embeddings. \n",
            "\tExpected first 10 elements: [-0.09228516  0.35986328 -0.0206604   0.63085938 -0.06640625 -0.16308594\n",
            "  0.12438965 -0.38378906  0.2052002   0.72949219].\n",
            "\tGot those first 10 elements: [0. 0. 0. 0. 0. 0. 0. 0. 0. 0.].\n",
            "Wrong document embedding. Remember to use 0 if the word is not in the embeddings. \n",
            "\tExpected first 10 elements: [ 0.08807373  0.32080078 -0.64819336 -0.22753906 -0.23071289 -0.00268555\n",
            " -0.15378189 -0.55761719 -0.07216644 -0.32263184].\n",
            "\tGot those first 10 elements: [0. 0. 0. 0. 0. 0. 0. 0. 0. 0.].\n",
            "Wrong document embedding. Remember to use 0 if the word is not in the embeddings. \n",
            "\tExpected first 10 elements: [-0.31961822 -0.25634766 -0.41040039  0.76220703  0.08587646 -0.14697266\n",
            "  0.5090332  -0.12988281 -0.15673828  0.10913086].\n",
            "\tGot those first 10 elements: [0. 0. 0. 0. 0. 0. 0. 0. 0. 0.].\n",
            "Wrong document embedding. Remember to use 0 if the word is not in the embeddings. \n",
            "\tExpected first 10 elements: [ 0.23547363  0.69628906 -0.65478516 -0.4564209  -0.66088867 -0.60791016\n",
            " -0.1326294  -0.1015625   0.19091797 -0.24353027].\n",
            "\tGot those first 10 elements: [0. 0. 0. 0. 0. 0. 0. 0. 0. 0.].\n",
            "Wrong document embedding. Remember to use 0 if the word is not in the embeddings. \n",
            "\tExpected first 10 elements: [ 0.22283936  0.28491211  0.25024414  0.04541016 -0.68408203  0.09716797\n",
            "  0.62237549 -1.06835938  0.04943848  0.42053223].\n",
            "\tGot those first 10 elements: [0. 0. 0. 0. 0. 0. 0. 0. 0. 0.].\n",
            "Wrong document embedding. Remember to use 0 if the word is not in the embeddings. \n",
            "\tExpected first 10 elements: [-0.29101562  0.50402832 -0.23986816  0.03662109 -0.46264648 -0.40649414\n",
            "  0.39990234  0.33050537  0.04193115 -0.31494141].\n",
            "\tGot those first 10 elements: [0. 0. 0. 0. 0. 0. 0. 0. 0. 0.].\n",
            "\u001b[92m 3  Tests passed\n",
            "\u001b[91m 6  Tests failed\n"
          ]
        }
      ]
    },
    {
      "cell_type": "code",
      "source": [
        "# ✅ UNQ_C8: cosine_similarity_doc function\n",
        "def cosine_similarity_doc(doc1, doc2, en_embeddings):\n",
        "    \"\"\"\n",
        "    Input:\n",
        "        doc1, doc2: lists of cleaned/processed words\n",
        "        en_embeddings: word-to-vec dictionary\n",
        "    Output:\n",
        "        cosine similarity between document embeddings\n",
        "    \"\"\"\n",
        "    emb1 = get_document_embedding(doc1, en_embeddings)\n",
        "    emb2 = get_document_embedding(doc2, en_embeddings)\n",
        "    return cosine_similarity(emb1, emb2)\n",
        "\n",
        "# ✅ Test UNQ_C8\n",
        "# Example manual test\n",
        "tweet1 = [\"nlp\", \"rocks\"]\n",
        "tweet2 = [\"i\", \"love\", \"nlp\"]\n",
        "print(\"Doc similarity:\", cosine_similarity_doc(tweet1, tweet2, en_embeddings_subset))\n",
        "\n"
      ],
      "metadata": {
        "colab": {
          "base_uri": "https://localhost:8080/"
        },
        "id": "TVeEr9ieJEEX",
        "outputId": "8a9bfa3e-2053-4374-fc3e-61adf9448098"
      },
      "execution_count": 52,
      "outputs": [
        {
          "output_type": "stream",
          "name": "stdout",
          "text": [
            "Doc similarity: 0.17823718376958247\n"
          ]
        }
      ]
    },
    {
      "cell_type": "code",
      "source": [
        "# ✅ UNQ_C9: most_similar_docs function\n",
        "def most_similar_docs(tweet, tweets, en_embeddings):\n",
        "    \"\"\"\n",
        "    Input:\n",
        "        tweet: list of words (reference tweet)\n",
        "        tweets: list of list of words (corpus)\n",
        "        en_embeddings: word embedding dictionary\n",
        "    Output:\n",
        "        index of most similar tweet from tweets\n",
        "    \"\"\"\n",
        "    max_sim = -1\n",
        "    best_idx = -1\n",
        "    for idx, other_tweet in enumerate(tweets):\n",
        "        sim = cosine_similarity_doc(tweet, other_tweet, en_embeddings)\n",
        "        if sim > max_sim:\n",
        "            max_sim = sim\n",
        "            best_idx = idx\n",
        "    return best_idx\n",
        "\n",
        "# ✅ Test UNQ_C9\n",
        "# Manual test for most_similar_docs\n",
        "tweet_corpus = [\n",
        "    [\"i\", \"love\", \"nlp\"],\n",
        "    [\"nlp\", \"is\", \"awesome\"],\n",
        "    [\"i\", \"prefer\", \"deep\", \"learning\"],\n",
        "    [\"python\", \"is\", \"cool\"]\n",
        "]\n",
        "\n",
        "query_tweet = [\"nlp\", \"rocks\"]\n",
        "most_sim_idx = most_similar_docs(query_tweet, tweet_corpus, en_embeddings_subset)\n",
        "print(f\"Most similar tweet index: {most_sim_idx}\")\n",
        "print(\"Matched Tweet:\", tweet_corpus[most_sim_idx])\n",
        "\n"
      ],
      "metadata": {
        "colab": {
          "base_uri": "https://localhost:8080/"
        },
        "id": "8lQRQk9AJlo0",
        "outputId": "3b6a5eae-2f82-472c-c750-f21bc2ba2be1"
      },
      "execution_count": 54,
      "outputs": [
        {
          "output_type": "stream",
          "name": "stdout",
          "text": [
            "Most similar tweet index: 2\n",
            "Matched Tweet: ['i', 'prefer', 'deep', 'learning']\n"
          ]
        }
      ]
    },
    {
      "cell_type": "code",
      "source": [
        "sample_tweet = [\"nlp\", \"rocks\"]\n",
        "tweet_corpus = [\n",
        "    [\"i\", \"love\", \"nlp\"],\n",
        "    [\"deep\", \"learning\", \"is\", \"cool\"],\n",
        "    [\"nlp\", \"is\", \"awesome\"],\n",
        "    [\"transformers\", \"rock\"]\n",
        "]\n",
        "\n",
        "best_idx = most_similar_docs(sample_tweet, tweet_corpus, en_embeddings_subset)\n",
        "print(\"Reference Tweet:\", sample_tweet)\n",
        "print(\"Most Similar Tweet:\", tweet_corpus[best_idx])\n"
      ],
      "metadata": {
        "colab": {
          "base_uri": "https://localhost:8080/"
        },
        "id": "180jrORgKpP6",
        "outputId": "025c820e-5f81-4b63-9c1a-e8a26d916c33"
      },
      "execution_count": 56,
      "outputs": [
        {
          "output_type": "stream",
          "name": "stdout",
          "text": [
            "Reference Tweet: ['nlp', 'rocks']\n",
            "Most Similar Tweet: ['transformers', 'rock']\n"
          ]
        }
      ]
    },
    {
      "cell_type": "code",
      "source": [
        "# ✅ Visualize document embeddings in 2D\n",
        "import matplotlib.pyplot as plt\n",
        "from sklearn.decomposition import PCA\n",
        "\n",
        "all_docs = tweet_corpus + [sample_tweet]\n",
        "labels = [f\"Tweet {i}\" for i in range(len(tweet_corpus))] + [\"Reference\"]\n",
        "doc_embs = [get_document_embedding(doc, en_embeddings_subset) for doc in all_docs]\n",
        "\n",
        "pca = PCA(n_components=2)\n",
        "reduced = pca.fit_transform(doc_embs)\n",
        "\n",
        "plt.figure(figsize=(10, 6))\n",
        "for i, point in enumerate(reduced):\n",
        "    plt.scatter(point[0], point[1], c='red' if labels[i] == \"Reference\" else 'blue')\n",
        "    plt.annotate(labels[i], (point[0] + 0.01, point[1] + 0.01))\n",
        "\n",
        "plt.title(\"2D Visualization of Document Embeddings\")\n",
        "plt.xlabel(\"PCA Component 1\")\n",
        "plt.ylabel(\"PCA Component 2\")\n",
        "plt.grid(True)\n",
        "plt.tight_layout()\n",
        "plt.show()"
      ],
      "metadata": {
        "colab": {
          "base_uri": "https://localhost:8080/",
          "height": 607
        },
        "id": "huWV4wY1KV2l",
        "outputId": "c9e459db-d449-428c-9da7-d6549f939ce7"
      },
      "execution_count": 57,
      "outputs": [
        {
          "output_type": "display_data",
          "data": {
            "text/plain": [
              "<Figure size 1000x600 with 1 Axes>"
            ],
            "image/png": "[encoded data removed]"
          },
          "metadata": {}
        }
      ]
    },
    {
      "cell_type": "code",
      "source": [
        "losses = []\n",
        "R = np.random.rand(X_train.shape[1], X_train.shape[1])\n",
        "for i in range(400):\n",
        "    grad = compute_gradient(X_train, Y_train, R)\n",
        "    R -= 0.8 * grad\n",
        "    if i % 10 == 0:\n",
        "        loss = compute_loss(X_train, Y_train, R)\n",
        "        losses.append(loss)\n",
        "\n",
        "plt.plot(range(0, 400, 10), losses)\n",
        "plt.title(\"Alignment Loss Over Iterations\")\n",
        "plt.xlabel(\"Iteration\")\n",
        "plt.ylabel(\"Loss\")\n",
        "plt.grid(True)\n",
        "plt.show()\n"
      ],
      "metadata": {
        "colab": {
          "base_uri": "https://localhost:8080/",
          "height": 472
        },
        "id": "U7wFVBaAKzHp",
        "outputId": "9e4b3a8a-510c-4824-fb03-5ddc18aaaea6"
      },
      "execution_count": 58,
      "outputs": [
        {
          "output_type": "display_data",
          "data": {
            "text/plain": [
              "<Figure size 640x480 with 1 Axes>"
            ],
            "image/png": "[encoded data removed]"
          },
          "metadata": {}
        }
      ]
    },
    {
      "cell_type": "code",
      "source": [
        "top_ks = [1, 3, 5]\n",
        "accuracies = []\n",
        "\n",
        "for k in top_ks:\n",
        "    def custom_nearest(x, candidates, embeddings):\n",
        "        return nearest_neighbor(x=x, candidates=candidates, embeddings=embeddings, k=k)\n",
        "\n",
        "    correct = 0\n",
        "    for i in range(len(X_val_aligned)):\n",
        "        pred = custom_nearest(x=X_val_aligned[i], candidates=list(filtered_test.values()), embeddings=en_embeddings_subset)\n",
        "        if filtered_test[list(filtered_test.keys())[i]] in pred:\n",
        "            correct += 1\n",
        "    accuracies.append(correct / len(X_val_aligned))\n",
        "\n",
        "plt.plot(top_ks, accuracies, marker='o')\n",
        "plt.title(\"Top-K Translation Accuracy\")\n",
        "plt.xlabel(\"Top-K\")\n",
        "plt.ylabel(\"Accuracy\")\n",
        "plt.grid(True)\n",
        "plt.show()\n"
      ],
      "metadata": {
        "colab": {
          "base_uri": "https://localhost:8080/",
          "height": 472
        },
        "id": "ib3CSmX-K2sk",
        "outputId": "79286c1c-074c-46f8-f206-e2adffee30a4"
      },
      "execution_count": 59,
      "outputs": [
        {
          "output_type": "display_data",
          "data": {
            "text/plain": [
              "<Figure size 640x480 with 1 Axes>"
            ],
            "image/png": "[encoded data removed]"
          },
          "metadata": {}
        }
      ]
    }
  ]
}